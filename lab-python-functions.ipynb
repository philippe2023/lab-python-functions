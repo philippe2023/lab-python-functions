{
 "cells": [
  {
   "cell_type": "markdown",
   "id": "25d7736c-ba17-4aff-b6bb-66eba20fbf4e",
   "metadata": {},
   "source": [
    "# Lab | Functions"
   ]
  },
  {
   "cell_type": "markdown",
   "id": "0c581062-8967-4d93-b06e-62833222f930",
   "metadata": {
    "tags": []
   },
   "source": [
    "## Exercise: Managing Customer Orders with Functions\n",
    "\n",
    "In the previous exercise, you improved the code for managing customer orders by using loops and flow control. Now, let's take it a step further and refactor the code by introducing functions.\n",
    "\n",
    "Follow the steps below to complete the exercise:\n",
    "\n",
    "1. Define a function named `initialize_inventory` that takes `products` as a parameter. Inside the function, implement the code for initializing the inventory dictionary using a loop and user input.\n",
    "\n",
    "2. Define a function named `get_customer_orders` that takes no parameters. Inside the function, implement the code for prompting the user to enter the product names using a loop. The function should return the `customer_orders` set.\n",
    "\n",
    "3. Define a function named `update_inventory` that takes `customer_orders` and `inventory` as parameters. Inside the function, implement the code for updating the inventory dictionary based on the customer orders.\n",
    "\n",
    "4. Define a function named `calculate_order_statistics` that takes `customer_orders` and `products` as parameters. Inside the function, implement the code for calculating the order statistics (total products ordered, and percentage of unique products ordered). The function should return these values.\n",
    "\n",
    "5. Define a function named `print_order_statistics` that takes `order_statistics` as a parameter. Inside the function, implement the code for printing the order statistics.\n",
    "\n",
    "6. Define a function named `print_updated_inventory` that takes `inventory` as a parameter. Inside the function, implement the code for printing the updated inventory.\n",
    "\n",
    "7. Call the functions in the appropriate sequence to execute the program and manage customer orders.\n",
    "\n",
    "Hints for functions:\n",
    "\n",
    "- Consider the input parameters required for each function and their return values.\n",
    "- Utilize function parameters and return values to transfer data between functions.\n",
    "- Test your functions individually to ensure they work correctly.\n",
    "\n",
    "\n"
   ]
  },
  {
   "cell_type": "code",
   "execution_count": 89,
   "id": "3c591068-054a-4c7d-9723-f7dec96a362d",
   "metadata": {},
   "outputs": [],
   "source": [
    "# Define a function named initialize_inventory that takes products as a parameter. \n",
    "def initialize_inventory(products):\n",
    "# Inside the function, implement the code for initializing the inventory dictionary using a loop and user input.\n",
    "    # empty dictionary called inventory\n",
    "    inventory = {}\n",
    "    # Ask the user to input the quantity of each product available in the inventory.\n",
    "    for product in products:\n",
    "        quantity = int(input(f\"Please enter the current inventory of {product}: \"))\n",
    "        inventory[product] = quantity\n",
    "    return inventory"
   ]
  },
  {
   "cell_type": "code",
   "execution_count": 93,
   "id": "5b7c37cd-07ec-42b0-9c98-7800919a7c59",
   "metadata": {},
   "outputs": [],
   "source": [
    "# Define a function named get_customer_orders that takes no parameters. \n",
    "# Inside the function, implement the code for prompting the user to enter the product names using a loop. \n",
    "# The function should return the customer_orders set.\n",
    "\n",
    "def get_customer_orders():\n",
    "    customer_orders = []\n",
    "    print(\"Hello Customer, welcome to our shop.\")\n",
    "    print(\"What would you like to buy today?\")\n",
    "    while True:\n",
    "        product = input(\"Enter the name of the product to order: \").strip().lower()\n",
    "        customer_orders.append(product)\n",
    "        add_item_to_order = input(\"Would you like to add another product? (yes/no): \").strip().lower()\n",
    "        if add_item_to_order != 'yes':\n",
    "            break\n",
    "    return customer_orders"
   ]
  },
  {
   "cell_type": "code",
   "execution_count": 65,
   "id": "754fb1b0-450a-4d8a-8f6c-65775fb0a799",
   "metadata": {},
   "outputs": [],
   "source": [
    "# Define a function named update_inventory that takes customer_orders and inventory as parameters. \n",
    "# Inside the function, implement the code for updating the inventory dictionary based on the customer orders.\n",
    "def update_inventory(customer_orders, inventory):\n",
    "    # Update the inventory for the products that were ordered\n",
    "    for product in customer_orders:\n",
    "        if product in inventory:\n",
    "            if inventory[product] > 0:\n",
    "                inventory[product] -= 1\n",
    "            else:\n",
    "                print(f\"Sorry, {product} is currently out of stock.\")\n",
    "        else:\n",
    "            print(f\"Sorry, {product} is currently not available in our shop.\")"
   ]
  },
  {
   "cell_type": "code",
   "execution_count": 111,
   "id": "0f8c9ff1-7195-4b29-92e2-aefbef5c45cb",
   "metadata": {},
   "outputs": [],
   "source": [
    "# Define a function named calculate_order_statistics that takes customer_orders and products as parameters. \n",
    "# Inside the function, implement the code for calculating the order statistics (total products ordered, and percentage of unique products ordered). \n",
    "# The function should return these values.\n",
    "\n",
    "def calculate_order_statistics(customer_orders, products):\n",
    "    total_products_ordered = len(customer_orders)\n",
    "    unique_orders = set(customer_orders)\n",
    "    percentage_unique_products = (len(unique_orders) / len(products)) * 100\n",
    "    return total_products_ordered, percentage_unique_products"
   ]
  },
  {
   "cell_type": "code",
   "execution_count": 113,
   "id": "aeed7555-0ee6-4868-877a-c431a206b286",
   "metadata": {},
   "outputs": [],
   "source": [
    "# Define a function named print_order_statistics that takes order_statistics as a parameter. \n",
    "# Inside the function, implement the code for printing the order statistics.\n",
    "def print_order_statistics(order_statistics):\n",
    "    total_products_ordered, percentage_unique_products = order_statistics\n",
    "    print(f\"Total products ordered: {total_products_ordered}\")\n",
    "    print(f\"Percentage of unique products ordered: {percentage_unique_products:.2f}%\")"
   ]
  },
  {
   "cell_type": "code",
   "execution_count": 107,
   "id": "f29961b7-6ed9-4857-bb59-73b7a0bb7526",
   "metadata": {},
   "outputs": [],
   "source": [
    "# Define a function named print_updated_inventory that takes inventory as a parameter. \n",
    "# Inside the function, implement the code for printing the updated inventory.\n",
    "def print_updated_inventory(inventory):\n",
    "    print(\"The Updated Inventory is: \")\n",
    "    for product, quantity in inventory.items():\n",
    "        print(f\"{product}: {quantity}\")"
   ]
  },
  {
   "cell_type": "code",
   "execution_count": 115,
   "id": "1592b192-d36b-4f5d-a1fe-724a636331bb",
   "metadata": {},
   "outputs": [
    {
     "name": "stdin",
     "output_type": "stream",
     "text": [
      "Please enter the current inventory of t-shirt:  3\n",
      "Please enter the current inventory of mug:  3\n",
      "Please enter the current inventory of hat:  3\n",
      "Please enter the current inventory of book:  3\n",
      "Please enter the current inventory of keychain:  3\n"
     ]
    },
    {
     "name": "stdout",
     "output_type": "stream",
     "text": [
      "Hello Customer, welcome to our shop.\n",
      "What would you like to buy today?\n"
     ]
    },
    {
     "name": "stdin",
     "output_type": "stream",
     "text": [
      "Enter the name of the product to order:  mug\n",
      "Would you like to add another product? (yes/no):  yes\n",
      "Enter the name of the product to order:  book\n",
      "Would you like to add another product? (yes/no):  no\n"
     ]
    },
    {
     "name": "stdout",
     "output_type": "stream",
     "text": [
      "Total products ordered: 2\n",
      "Percentage of unique products ordered: 40.00%\n",
      "The Updated Inventory is: \n",
      "t-shirt: 3\n",
      "mug: 2\n",
      "hat: 3\n",
      "book: 2\n",
      "keychain: 3\n"
     ]
    }
   ],
   "source": [
    "def start():\n",
    "    # define the product list\n",
    "    products = [\"t-shirt\", \"mug\", \"hat\", \"book\", \"keychain\"]\n",
    "    \n",
    "    inventory = initialize_inventory(products)\n",
    "    customer_orders = get_customer_orders()\n",
    "    update_inventory(customer_orders, inventory)\n",
    "    order_statistics = calculate_order_statistics(customer_orders, products)\n",
    "    print_order_statistics(order_statistics)\n",
    "    print_updated_inventory(inventory)\n",
    "\n",
    "# Run the program\n",
    "start()"
   ]
  },
  {
   "cell_type": "code",
   "execution_count": null,
   "id": "ecd90812-8633-4d1e-8344-82796bdf11dc",
   "metadata": {},
   "outputs": [],
   "source": []
  }
 ],
 "metadata": {
  "kernelspec": {
   "display_name": "Python 3 (ipykernel)",
   "language": "python",
   "name": "python3"
  },
  "language_info": {
   "codemirror_mode": {
    "name": "ipython",
    "version": 3
   },
   "file_extension": ".py",
   "mimetype": "text/x-python",
   "name": "python",
   "nbconvert_exporter": "python",
   "pygments_lexer": "ipython3",
   "version": "3.12.4"
  }
 },
 "nbformat": 4,
 "nbformat_minor": 5
}
